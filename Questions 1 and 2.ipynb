{
 "cells": [
  {
   "cell_type": "code",
   "execution_count": 8,
   "metadata": {
    "id": "2N7acJVDTK7r"
   },
   "outputs": [],
   "source": [
    "import bluequbit\n",
    "from qiskit import QuantumCircuit\n",
    "from qiskit_aer import Aer\n",
    "from qiskit.visualization import plot_histogram\n",
    "\n",
    "import numpy as np\n",
    "import matplotlib"
   ]
  },
  {
   "cell_type": "code",
   "execution_count": 9,
   "metadata": {
    "id": "o5jx4nnLTK7t",
    "outputId": "a7f9f0d8-56ef-413f-e0ac-c5904c9107e1"
   },
   "outputs": [
    {
     "name": "stderr",
     "output_type": "stream",
     "text": [
      "\u001b[36m[BQ-PYTHON-SDK]\u001b[0m[\u001b[33mWARNING\u001b[0m] - Beta version 0.12.0b1 of BlueQubit Python SDK is being used.\u001b[0m\n"
     ]
    }
   ],
   "source": [
    "bq = bluequbit.init(\"jUU2f6gHzoqgklYFv265l4K72l4qhFet\")"
   ]
  },
  {
   "cell_type": "code",
   "execution_count": null,
   "metadata": {
    "id": "KLIVuXtGTK7u"
   },
   "outputs": [],
   "source": [
    "qc_qiskit = QuantumCircuit(4)\n",
    "qc_qiskit.h(0)\n",
    "qc_qiskit.h(1)\n",
    "qc_qiskit.h(2)\n",
    "qc_qiskit.h(3)\n",
    "qc_qiskit.measure_all()"
   ]
  },
  {
   "cell_type": "code",
   "execution_count": null,
   "metadata": {
    "id": "kat9oDVsTK7u",
    "outputId": "2cb84f07-5ab1-4584-b0da-546c439e8942"
   },
   "outputs": [
    {
     "name": "stdout",
     "output_type": "stream",
     "text": [
      "\u001b[36m[BQ-PYTHON-SDK]\u001b[0m[\u001b[32mINFO\u001b[0m] - Submitted: Job ID: bZ9OBhMQmnpo9I7b, device: cpu, run status: COMPLETED, created on: 2025-04-11 19:43:22 UTC, cost: $0.00, run time: 9 ms, queue time: 98 ms, num qubits: 4\u001b[0m\n"
     ]
    }
   ],
   "source": [
    "result = bq.run(qc_qiskit, device=\"cpu\", shots=100)"
   ]
  },
  {
   "cell_type": "code",
   "execution_count": null,
   "metadata": {
    "id": "0JxTarJUTK7v",
    "outputId": "1c958455-0193-4946-9528-116392b9ac3e"
   },
   "outputs": [
    {
     "name": "stdout",
     "output_type": "stream",
     "text": [
      "{'0000': 7, '0001': 6, '0010': 3, '0011': 9, '0100': 2, '0101': 4, '0110': 9, '0111': 3, '1000': 8, '1001': 11, '1010': 6, '1011': 7, '1100': 7, '1101': 3, '1110': 8, '1111': 7}\n"
     ]
    }
   ],
   "source": [
    "print(result.get_counts())"
   ]
  },
  {
   "cell_type": "markdown",
   "metadata": {
    "id": "JT78utzeTK7v"
   },
   "source": [
    "# Same with qiskit"
   ]
  },
  {
   "cell_type": "code",
   "execution_count": null,
   "metadata": {
    "id": "S6Re1ijWTK7w"
   },
   "outputs": [],
   "source": [
    "circuit = QuantumCircuit(4)\n",
    "\n",
    "circuit.x(0)\n",
    "circuit.x(3)\n",
    "circuit.barrier()\n",
    "\n",
    "for i in range(4):\n",
    "    circuit.ry(0.8 * np.pi, i)\n",
    "\n",
    "circuit.measure_all()"
   ]
  },
  {
   "cell_type": "code",
   "execution_count": null,
   "metadata": {
    "id": "vAlG-Gg6TK7w",
    "outputId": "fb785d11-f5af-44eb-94fc-9c1ead336109"
   },
   "outputs": [
    {
     "data": {
      "text/html": [
       "<pre style=\"word-wrap: normal;white-space: pre;background: #fff0;line-height: 1.1;font-family: &quot;Courier New&quot;,Courier,monospace\">        ┌───┐ ░ ┌──────────┐ ░ ┌─┐         \n",
       "   q_0: ┤ X ├─░─┤ Ry(4π/5) ├─░─┤M├─────────\n",
       "        └───┘ ░ ├──────────┤ ░ └╥┘┌─┐      \n",
       "   q_1: ──────░─┤ Ry(4π/5) ├─░──╫─┤M├──────\n",
       "              ░ ├──────────┤ ░  ║ └╥┘┌─┐   \n",
       "   q_2: ──────░─┤ Ry(4π/5) ├─░──╫──╫─┤M├───\n",
       "        ┌───┐ ░ ├──────────┤ ░  ║  ║ └╥┘┌─┐\n",
       "   q_3: ┤ X ├─░─┤ Ry(4π/5) ├─░──╫──╫──╫─┤M├\n",
       "        └───┘ ░ └──────────┘ ░  ║  ║  ║ └╥┘\n",
       "meas: 4/════════════════════════╩══╩══╩══╩═\n",
       "                                0  1  2  3 </pre>"
      ],
      "text/plain": [
       "        ┌───┐ ░ ┌──────────┐ ░ ┌─┐         \n",
       "   q_0: ┤ X ├─░─┤ Ry(4π/5) ├─░─┤M├─────────\n",
       "        └───┘ ░ ├──────────┤ ░ └╥┘┌─┐      \n",
       "   q_1: ──────░─┤ Ry(4π/5) ├─░──╫─┤M├──────\n",
       "              ░ ├──────────┤ ░  ║ └╥┘┌─┐   \n",
       "   q_2: ──────░─┤ Ry(4π/5) ├─░──╫──╫─┤M├───\n",
       "        ┌───┐ ░ ├──────────┤ ░  ║  ║ └╥┘┌─┐\n",
       "   q_3: ┤ X ├─░─┤ Ry(4π/5) ├─░──╫──╫──╫─┤M├\n",
       "        └───┘ ░ └──────────┘ ░  ║  ║  ║ └╥┘\n",
       "meas: 4/════════════════════════╩══╩══╩══╩═\n",
       "                                0  1  2  3 "
      ]
     },
     "execution_count": 18,
     "metadata": {},
     "output_type": "execute_result"
    }
   ],
   "source": [
    "circuit.draw()"
   ]
  },
  {
   "cell_type": "code",
   "execution_count": null,
   "metadata": {
    "id": "MfzqnvnpTK7w"
   },
   "outputs": [],
   "source": [
    "backend = Aer.get_backend(\"qasm_simulator\")"
   ]
  },
  {
   "cell_type": "code",
   "execution_count": null,
   "metadata": {
    "id": "PbFEdwI-TK7x"
   },
   "outputs": [],
   "source": [
    "job = backend.run(circuit, shots=500)"
   ]
  },
  {
   "cell_type": "code",
   "execution_count": null,
   "metadata": {
    "id": "DNZkT_PmTK7x"
   },
   "outputs": [],
   "source": [
    "result = job.result()"
   ]
  },
  {
   "cell_type": "code",
   "execution_count": null,
   "metadata": {
    "id": "1dyrYQXNTK7x"
   },
   "outputs": [],
   "source": [
    "counts = result.get_counts(circuit)"
   ]
  },
  {
   "cell_type": "code",
   "execution_count": null,
   "metadata": {
    "id": "7kRKpyjUTK7x",
    "outputId": "46cca2ab-a4ec-4647-f36f-a3e088d079da"
   },
   "outputs": [
    {
     "name": "stdout",
     "output_type": "stream",
     "text": [
      "{'1000': 1, '1010': 3, '0101': 5, '1110': 31, '0100': 33, '1100': 3, '0001': 1, '0011': 4, '1101': 1, '1111': 5, '0111': 36, '0110': 341, '0000': 5, '0010': 31}\n"
     ]
    }
   ],
   "source": [
    "print(counts)"
   ]
  },
  {
   "cell_type": "code",
   "execution_count": null,
   "metadata": {
    "id": "RAeZKx8hTK7x",
    "outputId": "16260ec3-987f-4e86-b564-c0fdf54f1468"
   },
   "outputs": [
    {
     "data": {
      "image/png": "[encoded data removed]",
      "text/plain": [
       "<Figure size 640x480 with 1 Axes>"
      ]
     },
     "execution_count": 40,
     "metadata": {},
     "output_type": "execute_result"
    }
   ],
   "source": [
    "plot_histogram(counts)"
   ]
  },
  {
   "cell_type": "markdown",
   "metadata": {
    "id": "WgUar6t2TK7y"
   },
   "source": [
    "# QASM + Qiskit"
   ]
  },
  {
   "cell_type": "code",
   "execution_count": 1,
   "metadata": {
    "id": "EhPGtf-fTK7y"
   },
   "outputs": [],
   "source": [
    "from qiskit import QuantumCircuit\n",
    "from qiskit import qasm, qasm2, qasm3"
   ]
  },
  {
   "cell_type": "code",
   "execution_count": null,
   "metadata": {
    "id": "Sf2rPN-PTK7y"
   },
   "outputs": [],
   "source": [
    "circuit_qasm = QuantumCircuit.from_qasm_file(\"/Users/soardr/Downloads/YQuantum 2025/P2_swift_rise.qasm\")\n",
    "# circuit_qasm = QuantumCircuit.from_qasm_file(\"/Users/soardr/Downloads/YQuantum 2025/P3__sharp_peak.qasm\")"
   ]
  },
  {
   "cell_type": "code",
   "execution_count": 4,
   "metadata": {
    "id": "GZSbmcjdTK7y"
   },
   "outputs": [],
   "source": [
    "circuit_qasm.measure_all()"
   ]
  },
  {
   "cell_type": "code",
   "execution_count": 10,
   "metadata": {
    "id": "Oc8wE4oZTK7y",
    "outputId": "230acd9a-dc44-4161-a81f-9b936095a200"
   },
   "outputs": [
    {
     "name": "stdout",
     "output_type": "stream",
     "text": [
      "\u001b[36m[BQ-PYTHON-SDK]\u001b[0m[\u001b[32mINFO\u001b[0m] - Submitted: Job ID: wtTKVk6ORnh3SbmM, device: cpu, run status: RUNNING, created on: 2025-04-13 16:02:48 UTC, estimated runtime: 82500 ms, estimated cost: $0.00, num qubits: 28\u001b[0m\n"
     ]
    }
   ],
   "source": [
    "result = bq.run(circuit_qasm, device=\"cpu\", shots=100)"
   ]
  },
  {
   "cell_type": "code",
   "execution_count": 11,
   "metadata": {
    "id": "HUzlVekyTK7y",
    "outputId": "aafb3cc1-e520-492e-ffb2-fe0fe278389a"
   },
   "outputs": [
    {
     "name": "stdout",
     "output_type": "stream",
     "text": [
      "{'0000001101100011011000011100': 1, '0010001001100011011000011101': 1, '0010101101100011011000011101': 2, '0010111011100011011000110101': 1, '0011111101100010000110011100': 1, '0100100101100011011000011100': 1, '0101001101100011100010011101': 1, '1000101101100010000110101011': 1, '1000101111110111011000011100': 1, '1001001101100011011000011101': 2, '1001111101100011011000011100': 1, '1010011101100011011000011100': 1, '1010101101100011011000010000': 1, '1010101101100011011000011010': 1, '1010110101100011011000011101': 1, '1011001101100011011000011100': 1, '1011010101100011011000011100': 1, '1011011001100011011000011100': 1, '1100000101100011011000011100': 1, '1100001101100000100000011101': 1, '1100010110000011011000011100': 1, '1100100010000111011000011100': 1, '1100100010011011011000011100': 1, '1100100011001111011000011100': 1, '1100100011101111011010010000': 1, '1100100111101110000110011100': 1, '1100101010001011011000011100': 1, '1100101011011111011000011100': 1, '1100101011110011011000011100': 1, '1100101100000000011000011100': 1, '1100101100001111011000011100': 1, '1100101100011100011001011000': 1, '1100101101011101011000011100': 1, '1100101101100000010010101100': 1, '1100101101100010010010100100': 2, '1100101101100011001110011100': 2, '1100101101100011010101100000': 2, '1100101101100011011000000110': 1, '1100101101100011011000011100': 38, '1100101101100011011001010100': 2, '1100101101100011011001011000': 1, '1100101101100011011001011110': 1, '1100101101100011011001100010': 1, '1100101101100011101110001100': 1, '1100101101100011111001010100': 1, '1100101101100011111011011100': 1, '1100101101100011111100011100': 1, '1100101101100011111111011100': 1, '1100101101100111001011100100': 1, '1100101101110001111000011100': 1, '1100101101111110111000011100': 1, '1100101101111111101000011100': 1, '1101101101100011011000011101': 1, '1101101101111101111000011101': 1, '1110101101100011011000011100': 1, '1110101101100011011000011101': 1, '1111100111101110111111011010': 1}\n"
     ]
    }
   ],
   "source": [
    "print(result.get_counts())"
   ]
  },
  {
   "cell_type": "code",
   "execution_count": null,
   "metadata": {
    "id": "i3WUR5ecTK7y"
   },
   "outputs": [],
   "source": []
  }
 ],
 "metadata": {
  "colab": {
   "provenance": []
  },
  "kernelspec": {
   "display_name": ".venv",
   "language": "python",
   "name": "python3"
  },
  "language_info": {
   "codemirror_mode": {
    "name": "ipython",
    "version": 3
   },
   "file_extension": ".py",
   "mimetype": "text/x-python",
   "name": "python",
   "nbconvert_exporter": "python",
   "pygments_lexer": "ipython3",
   "version": "3.11.3"
  }
 },
 "nbformat": 4,
 "nbformat_minor": 0
}
