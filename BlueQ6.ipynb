{
 "cells": [
  {
   "cell_type": "code",
   "execution_count": 1,
   "id": "e6e5c15b",
   "metadata": {},
   "outputs": [],
   "source": [
    "import bluequbit\n",
    "import numpy as np\n",
    "from matplotlib import pyplot as plt"
   ]
  },
  {
   "cell_type": "code",
   "execution_count": 2,
   "id": "b9624146",
   "metadata": {},
   "outputs": [
    {
     "name": "stderr",
     "output_type": "stream",
     "text": [
      "\u001b[36m[BQ-PYTHON-SDK]\u001b[0m[\u001b[33mWARNING\u001b[0m] - Beta version 0.12.0b1 of BlueQubit Python SDK is being used.\u001b[0m\n"
     ]
    }
   ],
   "source": [
    "bq = bluequbit.init(\"Y11Q9TV91o98lDCVk1dCvc3UEDvq0Mpx\")"
   ]
  },
  {
   "cell_type": "code",
   "execution_count": 3,
   "id": "203f886b",
   "metadata": {},
   "outputs": [],
   "source": [
    "from qiskit import QuantumCircuit"
   ]
  },
  {
   "cell_type": "code",
   "execution_count": 4,
   "id": "4dbc7d55",
   "metadata": {},
   "outputs": [],
   "source": [
    "qc = QuantumCircuit.from_qasm_file('P6_titan_pinnacle.qasm')"
   ]
  },
  {
   "cell_type": "code",
   "execution_count": 5,
   "id": "48338cba",
   "metadata": {},
   "outputs": [
    {
     "name": "stdout",
     "output_type": "stream",
     "text": [
      "OrderedDict({'u3': 6992, 'cz': 3494, 'measure': 62, 'barrier': 1})\n"
     ]
    }
   ],
   "source": [
    "qc.measure_all()\n",
    "print(qc.count_ops())"
   ]
  },
  {
   "cell_type": "code",
   "execution_count": 10,
   "id": "6eebab61",
   "metadata": {},
   "outputs": [],
   "source": [
    "# Import required packages\n",
    "from qiskit.transpiler import PassManager, CouplingMap\n",
    "from qiskit.transpiler.preset_passmanagers import generate_preset_pass_manager\n",
    "from qiskit.transpiler.passes import OptimizeSwapBeforeMeasure\n",
    "from qiskit_ibm_runtime import QiskitRuntimeService\n",
    " \n",
    "from qiskit_ibm_transpiler.ai.routing import AIRouting\n",
    "from qiskit_ibm_transpiler.ai.synthesis import AILinearFunctionSynthesis\n",
    "from qiskit_ibm_transpiler.ai.collection import CollectLinearFunctions\n",
    "from qiskit_ibm_transpiler.ai.synthesis import AIPauliNetworkSynthesis\n",
    "from qiskit_ibm_transpiler.ai.collection import CollectPauliNetworks"
   ]
  },
  {
   "cell_type": "code",
   "execution_count": null,
   "id": "ae30f1f0",
   "metadata": {},
   "outputs": [],
   "source": [
    "QiskitRuntimeService.save_account(token='y', instance=\"ibm-q/open/main\",\n",
    "    channel=\"ibm_quantum\",       # Specify the channel\n",
    "    overwrite=True              # Overwrite existing credentials if any\n",
    ")"
   ]
  },
  {
   "cell_type": "code",
   "execution_count": null,
   "id": "58dfeefc",
   "metadata": {},
   "outputs": [],
   "source": [
    "ibm_torino = QiskitRuntimeService().backend('ibm_sherbrooke')\n"
   ]
  },
  {
   "cell_type": "code",
   "execution_count": null,
   "id": "9ee27f3a",
   "metadata": {},
   "outputs": [],
   "source": [
    "# Create a fully connected coupling map for 62 qubits\n",
    "coupling_list = []\n",
    "for i in range(62):\n",
    "    for j in range(i + 1, 62):\n",
    "        coupling_list.append([i, j])\n",
    "\n",
    "coupling_map = CouplingMap(coupling_list)\n",
    "\n",
    "ai_passmanager = PassManager([\n",
    "  AIRouting(backend=ibm_torino, optimization_level=3, layout_mode=\"optimize\", local_mode=True),  # Route circuit\n",
    "  CollectLinearFunctions(),  # Collect Linear Function blocks\n",
    "  AILinearFunctionSynthesis(backend=ibm_torino, local_mode=True),  # Re-synthesize Linear Function blocks\n",
    "  CollectPauliNetworks(), # Collect Pauli Networks blocks\n",
    "  AIPauliNetworkSynthesis(backend=ibm_torino, local_mode=False),  # Re-synthesize Pauli Network blocks. Only available in the Qiskit Transpiler Service\n",
    ",AILinearFunctionSynthesis(backend=ibm_torino, max_threads=200)  # Re-synthesize Linear Function blocks using 20 threads max\n",
    "\n",
    "])\n",
    "transpiled_circuit = ai_passmanager.run(qc)\n",
    "\n"
   ]
  },
  {
   "cell_type": "code",
   "execution_count": null,
   "id": "2ca0ac48",
   "metadata": {},
   "outputs": [],
   "source": [
    "result = bq.run(transpiled_circuit, device='quantum', shots=10000) "
   ]
  }
 ],
 "metadata": {
  "kernelspec": {
   "display_name": "Python 3",
   "language": "python",
   "name": "python3"
  },
  "language_info": {
   "codemirror_mode": {
    "name": "ipython",
    "version": 3
   },
   "file_extension": ".py",
   "mimetype": "text/x-python",
   "name": "python",
   "nbconvert_exporter": "python",
   "pygments_lexer": "ipython3",
   "version": "3.12.1"
  }
 },
 "nbformat": 4,
 "nbformat_minor": 5
}
