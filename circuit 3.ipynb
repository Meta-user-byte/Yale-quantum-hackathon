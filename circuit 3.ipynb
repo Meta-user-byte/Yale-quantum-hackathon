{
  "cells": [
    {
      "cell_type": "markdown",
      "metadata": {
        "id": "rDLYuogPFCtb"
      },
      "source": [
        "##### After Creating an account, an instance and an API Key, you are ready to connect to a quantum device"
      ]
    },
    {
      "cell_type": "code",
      "source": [
        "!pip install qiskit qiskit-ibm-runtime matplotlib"
      ],
      "metadata": {
        "colab": {
          "base_uri": "https://localhost:8080/"
        },
        "id": "ak-1f31DKi0b",
        "outputId": "3d439152-a527-4abd-dc8c-2893e7f79188"
      },
      "execution_count": 17,
      "outputs": [
        {
          "output_type": "stream",
          "name": "stdout",
          "text": [
            "Requirement already satisfied: qiskit in /usr/local/lib/python3.11/dist-packages (2.0.0)\n",
            "Requirement already satisfied: qiskit-ibm-runtime in /usr/local/lib/python3.11/dist-packages (0.37.0)\n",
            "Requirement already satisfied: matplotlib in /usr/local/lib/python3.11/dist-packages (3.10.0)\n",
            "Requirement already satisfied: rustworkx>=0.15.0 in /usr/local/lib/python3.11/dist-packages (from qiskit) (0.16.0)\n",
            "Requirement already satisfied: numpy<3,>=1.17 in /usr/local/lib/python3.11/dist-packages (from qiskit) (2.0.2)\n",
            "Requirement already satisfied: scipy>=1.5 in /usr/local/lib/python3.11/dist-packages (from qiskit) (1.14.1)\n",
            "Requirement already satisfied: sympy>=1.3 in /usr/local/lib/python3.11/dist-packages (from qiskit) (1.13.1)\n",
            "Requirement already satisfied: dill>=0.3 in /usr/local/lib/python3.11/dist-packages (from qiskit) (0.3.9)\n",
            "Requirement already satisfied: python-dateutil>=2.8.0 in /usr/local/lib/python3.11/dist-packages (from qiskit) (2.8.2)\n",
            "Requirement already satisfied: stevedore>=3.0.0 in /usr/local/lib/python3.11/dist-packages (from qiskit) (5.4.1)\n",
            "Requirement already satisfied: typing-extensions in /usr/local/lib/python3.11/dist-packages (from qiskit) (4.13.1)\n",
            "Requirement already satisfied: symengine<0.14,>=0.11 in /usr/local/lib/python3.11/dist-packages (from qiskit) (0.13.0)\n",
            "Requirement already satisfied: requests>=2.19 in /usr/local/lib/python3.11/dist-packages (from qiskit-ibm-runtime) (2.32.3)\n",
            "Requirement already satisfied: requests-ntlm>=1.1.0 in /usr/local/lib/python3.11/dist-packages (from qiskit-ibm-runtime) (1.3.0)\n",
            "Requirement already satisfied: urllib3>=1.21.1 in /usr/local/lib/python3.11/dist-packages (from qiskit-ibm-runtime) (2.3.0)\n",
            "Requirement already satisfied: websocket-client>=1.5.1 in /usr/local/lib/python3.11/dist-packages (from qiskit-ibm-runtime) (1.8.0)\n",
            "Requirement already satisfied: ibm-platform-services>=0.22.6 in /usr/local/lib/python3.11/dist-packages (from qiskit-ibm-runtime) (0.63.0)\n",
            "Requirement already satisfied: pydantic<2.10,>=2.5.0 in /usr/local/lib/python3.11/dist-packages (from qiskit-ibm-runtime) (2.9.2)\n",
            "Requirement already satisfied: packaging in /usr/local/lib/python3.11/dist-packages (from qiskit-ibm-runtime) (24.2)\n",
            "Requirement already satisfied: contourpy>=1.0.1 in /usr/local/lib/python3.11/dist-packages (from matplotlib) (1.3.1)\n",
            "Requirement already satisfied: cycler>=0.10 in /usr/local/lib/python3.11/dist-packages (from matplotlib) (0.12.1)\n",
            "Requirement already satisfied: fonttools>=4.22.0 in /usr/local/lib/python3.11/dist-packages (from matplotlib) (4.57.0)\n",
            "Requirement already satisfied: kiwisolver>=1.3.1 in /usr/local/lib/python3.11/dist-packages (from matplotlib) (1.4.8)\n",
            "Requirement already satisfied: pillow>=8 in /usr/local/lib/python3.11/dist-packages (from matplotlib) (11.1.0)\n",
            "Requirement already satisfied: pyparsing>=2.3.1 in /usr/local/lib/python3.11/dist-packages (from matplotlib) (3.2.3)\n",
            "Requirement already satisfied: ibm_cloud_sdk_core<4.0.0,>=3.22.1 in /usr/local/lib/python3.11/dist-packages (from ibm-platform-services>=0.22.6->qiskit-ibm-runtime) (3.23.0)\n",
            "Requirement already satisfied: annotated-types>=0.6.0 in /usr/local/lib/python3.11/dist-packages (from pydantic<2.10,>=2.5.0->qiskit-ibm-runtime) (0.7.0)\n",
            "Requirement already satisfied: pydantic-core==2.23.4 in /usr/local/lib/python3.11/dist-packages (from pydantic<2.10,>=2.5.0->qiskit-ibm-runtime) (2.23.4)\n",
            "Requirement already satisfied: six>=1.5 in /usr/local/lib/python3.11/dist-packages (from python-dateutil>=2.8.0->qiskit) (1.17.0)\n",
            "Requirement already satisfied: charset-normalizer<4,>=2 in /usr/local/lib/python3.11/dist-packages (from requests>=2.19->qiskit-ibm-runtime) (3.4.1)\n",
            "Requirement already satisfied: idna<4,>=2.5 in /usr/local/lib/python3.11/dist-packages (from requests>=2.19->qiskit-ibm-runtime) (3.10)\n",
            "Requirement already satisfied: certifi>=2017.4.17 in /usr/local/lib/python3.11/dist-packages (from requests>=2.19->qiskit-ibm-runtime) (2025.1.31)\n",
            "Requirement already satisfied: cryptography>=1.3 in /usr/local/lib/python3.11/dist-packages (from requests-ntlm>=1.1.0->qiskit-ibm-runtime) (43.0.3)\n",
            "Requirement already satisfied: pyspnego>=0.4.0 in /usr/local/lib/python3.11/dist-packages (from requests-ntlm>=1.1.0->qiskit-ibm-runtime) (0.11.2)\n",
            "Requirement already satisfied: pbr>=2.0.0 in /usr/local/lib/python3.11/dist-packages (from stevedore>=3.0.0->qiskit) (6.1.1)\n",
            "Requirement already satisfied: mpmath<1.4,>=1.1.0 in /usr/local/lib/python3.11/dist-packages (from sympy>=1.3->qiskit) (1.3.0)\n",
            "Requirement already satisfied: cffi>=1.12 in /usr/local/lib/python3.11/dist-packages (from cryptography>=1.3->requests-ntlm>=1.1.0->qiskit-ibm-runtime) (1.17.1)\n",
            "Requirement already satisfied: PyJWT<3.0.0,>=2.8.0 in /usr/local/lib/python3.11/dist-packages (from ibm_cloud_sdk_core<4.0.0,>=3.22.1->ibm-platform-services>=0.22.6->qiskit-ibm-runtime) (2.10.1)\n",
            "Requirement already satisfied: setuptools in /usr/local/lib/python3.11/dist-packages (from pbr>=2.0.0->stevedore>=3.0.0->qiskit) (75.2.0)\n",
            "Requirement already satisfied: pycparser in /usr/local/lib/python3.11/dist-packages (from cffi>=1.12->cryptography>=1.3->requests-ntlm>=1.1.0->qiskit-ibm-runtime) (2.22)\n"
          ]
        }
      ]
    },
    {
      "cell_type": "code",
      "execution_count": 18,
      "metadata": {
        "id": "p0QheC33FCtc"
      },
      "outputs": [],
      "source": [
        "from qiskit import qasm, qasm2,qasm3\n",
        "from qiskit.circuit import QuantumCircuit, ClassicalRegister, Gate, library\n",
        "from qiskit.transpiler import generate_preset_pass_manager\n",
        "from qiskit_ibm_runtime import QiskitRuntimeService, Batch, SamplerV2 as Sampler\n",
        "\n",
        "import numpy as np\n",
        "from matplotlib import pyplot as plt"
      ]
    },
    {
      "cell_type": "code",
      "source": [
        "from qiskit_ibm_runtime import QiskitRuntimeService\n",
        "\n",
        "service = QiskitRuntimeService(\n",
        "    channel='ibm_quantum',\n",
        "    instance='ibm-q/open/main',\n",
        "    token='d786b5d89b9478db9ef40cf3a486a89dd64a3aa9019141a60bfcd138f11332aa92ba8e31aa9cb589e085c9e672e8ba6a3e6e252b1d8fa9ce7309d94899575b0c'\n",
        ")\n",
        "\n",
        "# Or save your credentials on disk.\n",
        "# QiskitRuntimeService.save_account(channel='ibm_quantum', instance='ibm-q/open/main', token='d786b5d89b9478db9ef40cf3a486a89dd64a3aa9019141a60bfcd138f11332aa92ba8e31aa9cb589e085c9e672e8ba6a3e6e252b1d8fa9ce7309d94899575b0c')"
      ],
      "metadata": {
        "id": "CPefu8nINFSa"
      },
      "execution_count": 25,
      "outputs": []
    },
    {
      "cell_type": "code",
      "source": [
        "# Print all available backends you can use\n",
        "for backend in service.backends():\n",
        "    print(backend.name)"
      ],
      "metadata": {
        "colab": {
          "base_uri": "https://localhost:8080/"
        },
        "id": "kdFrKa5jNud7",
        "outputId": "e54a8913-26a6-4146-9822-46219f014722"
      },
      "execution_count": 29,
      "outputs": [
        {
          "output_type": "stream",
          "name": "stdout",
          "text": [
            "ibm_brisbane\n",
            "ibm_sherbrooke\n",
            "ibm_kyiv\n"
          ]
        }
      ]
    },
    {
      "cell_type": "code",
      "source": [
        "backend = service.backend(\"ibm_kyiv\")\n"
      ],
      "metadata": {
        "id": "FA3C711INwkr"
      },
      "execution_count": 32,
      "outputs": []
    },
    {
      "cell_type": "markdown",
      "source": [],
      "metadata": {
        "id": "nQztfj6-FCth"
      }
    },
    {
      "cell_type": "code",
      "execution_count": 26,
      "metadata": {
        "colab": {
          "base_uri": "https://localhost:8080/"
        },
        "id": "InN88X2eFCti",
        "outputId": "de8dcca5-dab9-48f5-ec95-b8e894782dc9"
      },
      "outputs": [
        {
          "output_type": "stream",
          "name": "stdout",
          "text": [
            "OrderedDict([('u3', 399), ('cz', 178), ('measure', 44), ('barrier', 1)])\n"
          ]
        }
      ],
      "source": [
        "## Load the circuit you would like to run\n",
        "circuit = QuantumCircuit.from_qasm_file('/content/P3__sharp_peak.qasm')\n",
        "\n",
        "## In case qasm instructions do not contain measurement instructions, we can add them here\n",
        "circuit.measure_all()\n",
        "print(circuit.count_ops())"
      ]
    },
    {
      "cell_type": "code",
      "execution_count": 33,
      "metadata": {
        "colab": {
          "base_uri": "https://localhost:8080/"
        },
        "id": "i81cHSMGFCtl",
        "outputId": "f53087d5-f87c-4ea5-a374-623911e4840a"
      },
      "outputs": [
        {
          "output_type": "stream",
          "name": "stdout",
          "text": [
            "OrderedDict([('rz', 985), ('sx', 771), ('ecr', 178), ('measure', 44), ('barrier', 1)])\n"
          ]
        }
      ],
      "source": [
        "## We have to transpile the circuits to a physical device, device connectivy, basis gate set etc.\n",
        "## For more details see: https://docs.quantum.ibm.com/api/qiskit/transpiler\n",
        "optimization_level = 3\n",
        "pm = generate_preset_pass_manager(optimization_level,\n",
        "                                  backend=backend)\n",
        "\n",
        "tp_circuit = pm.run(circuit)\n",
        "\n",
        "print(tp_circuit.count_ops())\n",
        "# tp_circuit.draw('mpl', fold=-1, idle_wires=False)"
      ]
    },
    {
      "cell_type": "markdown",
      "metadata": {
        "id": "Jd_ihaWvFCtl"
      },
      "source": [
        "#### Run a circuit on a quantum device"
      ]
    },
    {
      "cell_type": "code",
      "execution_count": 34,
      "metadata": {
        "colab": {
          "base_uri": "https://localhost:8080/"
        },
        "id": "QXAa4D2HFCtm",
        "outputId": "31085d1c-b082-4fd7-c09a-abdc654d8f4d"
      },
      "outputs": [
        {
          "output_type": "stream",
          "name": "stdout",
          "text": [
            "czxaw9hqnmvg008vzc0g\n"
          ]
        }
      ],
      "source": [
        "sampler = Sampler(backend, options={\"default_shots\": 100000})\n",
        "\n",
        "## In sampler we run pubs, which is a collection/list of circuits or tuples of circuits and parameters: https://docs.quantum.ibm.com/api/qiskit/qiskit.primitives.BackendSamplerV2\n",
        "job = sampler.run([tp_circuit])\n",
        "print(job.job_id())\n"
      ]
    },
    {
      "cell_type": "code",
      "execution_count": 36,
      "metadata": {
        "id": "oIp8aSicFCto"
      },
      "outputs": [],
      "source": [
        "## we can either retrieved the data directly from the job, or if we have the job_id, we can retrieve it with:\n",
        "job = service.job('czxaw9hqnmvg008vzc0g')\n",
        "counts = job.result()[0].data.meas.get_counts()\n",
        "\n",
        "## we sort the count dictionary from highest count to lowest\n",
        "sorted_cts_dict={k: v for k, v in sorted(counts.items(), key=lambda item: item[1], reverse=True)}"
      ]
    },
    {
      "cell_type": "code",
      "execution_count": 37,
      "metadata": {
        "colab": {
          "base_uri": "https://localhost:8080/",
          "height": 449
        },
        "id": "PRJAkaxhFCtp",
        "outputId": "95c4b374-d6d9-4f8c-c4f9-0f34702ee4f0"
      },
      "outputs": [
        {
          "output_type": "display_data",
          "data": {
            "text/plain": [
              "<Figure size 640x480 with 1 Axes>"
            ],
            "image/png": "[encoded data removed]"
          },
          "metadata": {}
        }
      ],
      "source": [
        "cutoff = 50 #how many bitstrings we want to plot\n",
        "val_list = list(sorted_cts_dict.values())\n",
        "string_list = list(sorted_cts_dict.keys())\n",
        "plt.bar(range(cutoff), np.array(val_list)[0:cutoff]/sum(val_list), label = f\"Peak: {string_list[0]}\")\n",
        "plt.ylabel('Frequency')\n",
        "plt.xlabel('Bit-string index')\n",
        "plt.legend()\n",
        "plt.show()\n"
      ]
    }
  ],
  "metadata": {
    "kernelspec": {
      "display_name": "qiskit1",
      "language": "python",
      "name": "python3"
    },
    "language_info": {
      "codemirror_mode": {
        "name": "ipython",
        "version": 3
      },
      "file_extension": ".py",
      "mimetype": "text/x-python",
      "name": "python",
      "nbconvert_exporter": "python",
      "pygments_lexer": "ipython3",
      "version": "3.12.3"
    },
    "colab": {
      "provenance": []
    }
  },
  "nbformat": 4,
  "nbformat_minor": 0
}